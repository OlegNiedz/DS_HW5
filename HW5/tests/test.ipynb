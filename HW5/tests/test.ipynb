{
 "cells": [
  {
   "cell_type": "code",
   "execution_count": 2,
   "metadata": {},
   "outputs": [
    {
     "name": "stdout",
     "output_type": "stream",
     "text": [
      "  Kolumna1   Kolumna2  Kolumna3\n",
      "0       57  50.000000      90.0\n",
      "1      NaN  60.000000     100.0\n",
      "2       30  63.333333     110.0\n",
      "3       40  80.000000     100.0\n"
     ]
    }
   ],
   "source": [
    "import pandas as pd\n",
    "import numpy as np\n",
    "\n",
    "# Przykładowy DataFrame z brakującymi danymi\n",
    "data = {\n",
    "    'Kolumna1': ['57', np.nan, 30, 40],\n",
    "    'Kolumna2': [50, 60, None, 80],\n",
    "    'Kolumna3': [90, 100, 110, None]\n",
    "}\n",
    "\n",
    "df = pd.DataFrame(data)\n",
    "\n",
    "# Zastąpienie brakujących danych średnimi wartościami kolumn\n",
    "df.fillna(df.mean(numeric_only=True), inplace=True)\n",
    "\n",
    "# Wyświetlenie DataFrame po zastąpieniu\n",
    "print(df)\n"
   ]
  },
  {
   "cell_type": "code",
   "execution_count": 5,
   "metadata": {},
   "outputs": [
    {
     "name": "stdout",
     "output_type": "stream",
     "text": [
      "   Kolumna1  Kolumna2  Kolumna3\n",
      "0       NaN        40        70\n",
      "1      20.0        50        80\n",
      "2      30.0        60        90\n"
     ]
    }
   ],
   "source": [
    "import pandas as pd\n",
    "\n",
    "# Przykładowy DataFrame\n",
    "data = {\n",
    "    \"Kolumna1\": [\"ddd\", \"20\", \"30\"],\n",
    "    \"Kolumna2\": [\"40\", \"50\", \"60\"],\n",
    "    \"Kolumna3\": [\"70\", \"80\", \"90\"],\n",
    "}\n",
    "\n",
    "df = pd.DataFrame(data)\n",
    "\n",
    "# Zamiana wszystkich kolumn na numeryczne\n",
    "df = df.apply(pd.to_numeric, errors=\"coerce\")\n",
    "\n",
    "# Wyświetlenie DataFrame po zmianie\n",
    "print(df)"
   ]
  }
 ],
 "metadata": {
  "kernelspec": {
   "display_name": "Python 3",
   "language": "python",
   "name": "python3"
  },
  "language_info": {
   "codemirror_mode": {
    "name": "ipython",
    "version": 3
   },
   "file_extension": ".py",
   "mimetype": "text/x-python",
   "name": "python",
   "nbconvert_exporter": "python",
   "pygments_lexer": "ipython3",
   "version": "3.12.1"
  }
 },
 "nbformat": 4,
 "nbformat_minor": 2
}
