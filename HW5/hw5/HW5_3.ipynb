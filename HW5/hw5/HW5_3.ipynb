{
 "cells": [
  {
   "cell_type": "code",
   "execution_count": 8,
   "metadata": {},
   "outputs": [],
   "source": [
    "# %matplotlib inline\n",
    "\n",
    "import pandas as pd\n",
    "\n",
    "import numpy as np\n",
    "import matplotlib.pyplot as plt"
   ]
  },
  {
   "cell_type": "markdown",
   "metadata": {},
   "source": [
    "Прочитайте csv файл (використовуйте функцію read_csv)"
   ]
  },
  {
   "cell_type": "code",
   "execution_count": 9,
   "metadata": {},
   "outputs": [],
   "source": [
    "file_csv = \"bestsellers with categories.csv\"\n",
    "oryginal_table = pd.read_csv(file_csv)\n",
    "df = oryginal_table.copy()"
   ]
  },
  {
   "cell_type": "markdown",
   "metadata": {},
   "source": [
    "Виведіть перші п'ять рядків (використовується функція head)"
   ]
  },
  {
   "cell_type": "code",
   "execution_count": 10,
   "metadata": {},
   "outputs": [
    {
     "data": {
      "text/html": [
       "<div>\n",
       "<style scoped>\n",
       "    .dataframe tbody tr th:only-of-type {\n",
       "        vertical-align: middle;\n",
       "    }\n",
       "\n",
       "    .dataframe tbody tr th {\n",
       "        vertical-align: top;\n",
       "    }\n",
       "\n",
       "    .dataframe thead th {\n",
       "        text-align: right;\n",
       "    }\n",
       "</style>\n",
       "<table border=\"1\" class=\"dataframe\">\n",
       "  <thead>\n",
       "    <tr style=\"text-align: right;\">\n",
       "      <th></th>\n",
       "      <th>Name</th>\n",
       "      <th>Author</th>\n",
       "      <th>User Rating</th>\n",
       "      <th>Reviews</th>\n",
       "      <th>Price</th>\n",
       "      <th>Year</th>\n",
       "      <th>Genre</th>\n",
       "    </tr>\n",
       "  </thead>\n",
       "  <tbody>\n",
       "    <tr>\n",
       "      <th>0</th>\n",
       "      <td>10-Day Green Smoothie Cleanse</td>\n",
       "      <td>JJ Smith</td>\n",
       "      <td>4.7</td>\n",
       "      <td>17350</td>\n",
       "      <td>8</td>\n",
       "      <td>2016</td>\n",
       "      <td>Non Fiction</td>\n",
       "    </tr>\n",
       "    <tr>\n",
       "      <th>1</th>\n",
       "      <td>11/22/63: A Novel</td>\n",
       "      <td>Stephen King</td>\n",
       "      <td>4.6</td>\n",
       "      <td>2052</td>\n",
       "      <td>22</td>\n",
       "      <td>2011</td>\n",
       "      <td>Fiction</td>\n",
       "    </tr>\n",
       "    <tr>\n",
       "      <th>2</th>\n",
       "      <td>12 Rules for Life: An Antidote to Chaos</td>\n",
       "      <td>Jordan B. Peterson</td>\n",
       "      <td>4.7</td>\n",
       "      <td>18979</td>\n",
       "      <td>15</td>\n",
       "      <td>2018</td>\n",
       "      <td>Non Fiction</td>\n",
       "    </tr>\n",
       "    <tr>\n",
       "      <th>3</th>\n",
       "      <td>1984 (Signet Classics)</td>\n",
       "      <td>George Orwell</td>\n",
       "      <td>4.7</td>\n",
       "      <td>21424</td>\n",
       "      <td>6</td>\n",
       "      <td>2017</td>\n",
       "      <td>Fiction</td>\n",
       "    </tr>\n",
       "    <tr>\n",
       "      <th>4</th>\n",
       "      <td>5,000 Awesome Facts (About Everything!) (Natio...</td>\n",
       "      <td>National Geographic Kids</td>\n",
       "      <td>4.8</td>\n",
       "      <td>7665</td>\n",
       "      <td>12</td>\n",
       "      <td>2019</td>\n",
       "      <td>Non Fiction</td>\n",
       "    </tr>\n",
       "  </tbody>\n",
       "</table>\n",
       "</div>"
      ],
      "text/plain": [
       "                                                Name  \\\n",
       "0                      10-Day Green Smoothie Cleanse   \n",
       "1                                  11/22/63: A Novel   \n",
       "2            12 Rules for Life: An Antidote to Chaos   \n",
       "3                             1984 (Signet Classics)   \n",
       "4  5,000 Awesome Facts (About Everything!) (Natio...   \n",
       "\n",
       "                     Author  User Rating  Reviews  Price  Year        Genre  \n",
       "0                  JJ Smith          4.7    17350      8  2016  Non Fiction  \n",
       "1              Stephen King          4.6     2052     22  2011      Fiction  \n",
       "2        Jordan B. Peterson          4.7    18979     15  2018  Non Fiction  \n",
       "3             George Orwell          4.7    21424      6  2017      Fiction  \n",
       "4  National Geographic Kids          4.8     7665     12  2019  Non Fiction  "
      ]
     },
     "execution_count": 10,
     "metadata": {},
     "output_type": "execute_result"
    }
   ],
   "source": [
    "df.head()"
   ]
  },
  {
   "cell_type": "markdown",
   "metadata": {},
   "source": [
    "Виведіть розміри датасету (використовуйте атрибут shape)"
   ]
  },
  {
   "cell_type": "code",
   "execution_count": 11,
   "metadata": {},
   "outputs": [
    {
     "name": "stdout",
     "output_type": "stream",
     "text": [
      "(550, 7)\n",
      "Про скільки книг зберігає дані датасет? Відповідь: 550\n"
     ]
    }
   ],
   "source": [
    "size=df.shape\n",
    "print(size)\n",
    "print(f\"Про скільки книг зберігає дані датасет? Відповідь: {size[0]}\")"
   ]
  },
  {
   "cell_type": "code",
   "execution_count": 12,
   "metadata": {},
   "outputs": [],
   "source": [
    "df.columns = [\"name\", \"author\", \"user_rating\", \"reviews\", \"price\", \"year\", \"genre\"]"
   ]
  },
  {
   "cell_type": "markdown",
   "metadata": {},
   "source": [
    "# Первинне дослідження даних\n",
    "\n"
   ]
  },
  {
   "cell_type": "markdown",
   "metadata": {},
   "source": [
    "Перевірте, чи у всіх рядків вистачає даних: виведіть кількість пропусків (na) у кожному зі стовпців (використовуйте функції isna та sum)"
   ]
  },
  {
   "cell_type": "code",
   "execution_count": 13,
   "metadata": {},
   "outputs": [
    {
     "name": "stdout",
     "output_type": "stream",
     "text": [
      "Чи є в якихось змінних пропуски? (Так / ні) Відповідь: Ні\n"
     ]
    }
   ],
   "source": [
    "rows=df.isna().sum()\n",
    "answer = 'Ні'\n",
    "for row in rows:\n",
    "    if row:\n",
    "        answer = 'Так'\n",
    "print(f'Чи є в якихось змінних пропуски? (Так / ні) Відповідь: {answer}')"
   ]
  },
  {
   "cell_type": "markdown",
   "metadata": {},
   "source": [
    "Перевірте, які є унікальні значення в колонці genre (використовуйте функцію unique)"
   ]
  },
  {
   "cell_type": "code",
   "execution_count": 14,
   "metadata": {},
   "outputs": [
    {
     "name": "stdout",
     "output_type": "stream",
     "text": [
      "Які є унікальні жанри? Відповідь:['Non Fiction' 'Fiction']\n"
     ]
    }
   ],
   "source": [
    "unq_genres = df['genre'].unique()\n",
    "print(f'Які є унікальні жанри? Відповідь:{unq_genres}')"
   ]
  },
  {
   "cell_type": "markdown",
   "metadata": {},
   "source": [
    "Тепер подивіться на розподіл цін: побудуйте діаграму (використовуйте kind='hist')"
   ]
  },
  {
   "cell_type": "code",
   "execution_count": 15,
   "metadata": {},
   "outputs": [
    {
     "data": {
      "text/plain": [
       "Text(0, 0.5, 'К-сть')"
      ]
     },
     "execution_count": 15,
     "metadata": {},
     "output_type": "execute_result"
    },
    {
     "data": {
      "image/png": "[encoded data removed]",
      "text/plain": [
       "<Figure size 640x480 with 1 Axes>"
      ]
     },
     "metadata": {},
     "output_type": "display_data"
    }
   ],
   "source": [
    "df[\"price\"].plot(kind=\"hist\", bins=10, edgecolor=\"cyan\")\n",
    "\n",
    "plt.title(\"Розподіл цін книг\")\n",
    "plt.xlabel(\"Ціна, $\")\n",
    "plt.ylabel(\"К-сть\")"
   ]
  },
  {
   "cell_type": "markdown",
   "metadata": {},
   "source": [
    "Визначте, яка ціна у нас максимальна, мінімальна, середня, медіанна (використовуйте функції max, min, mean, median)"
   ]
  },
  {
   "cell_type": "code",
   "execution_count": 16,
   "metadata": {},
   "outputs": [
    {
     "name": "stdout",
     "output_type": "stream",
     "text": [
      "Максимальна ціна? Відповідь: 105$\n",
      "Мініимальна ціна? Відповідь: 0$\n",
      "Середняа ціна? Відповідь: 13.1$\n",
      "Медіанна ціна? Відповідь: 11.0$\n"
     ]
    }
   ],
   "source": [
    "print(f'Максимальна ціна? Відповідь: {df['price'].max()}$')\n",
    "print(f'Мініимальна ціна? Відповідь: {df['price'].min()}$')\n",
    "print(f'Середняа ціна? Відповідь: {df['price'].mean()}$')\n",
    "print(f'Медіанна ціна? Відповідь: {df['price'].median()}$')"
   ]
  },
  {
   "cell_type": "markdown",
   "metadata": {},
   "source": [
    "# Пошук та сортування даних"
   ]
  },
  {
   "cell_type": "code",
   "execution_count": 17,
   "metadata": {},
   "outputs": [
    {
     "name": "stdout",
     "output_type": "stream",
     "text": [
      "Який рейтинг у датасеті найвищий? \n",
      "    Відповідь: 4.9\n"
     ]
    }
   ],
   "source": [
    "answer = df[\"user_rating\"].max()\n",
    "print(f\"Який рейтинг у датасеті найвищий? \\n    Відповідь: {answer}\")"
   ]
  },
  {
   "cell_type": "code",
   "execution_count": 18,
   "metadata": {},
   "outputs": [
    {
     "name": "stdout",
     "output_type": "stream",
     "text": [
      "Скільки книг мають такий рейтинг? \n",
      "    Відповідь: 52\n"
     ]
    }
   ],
   "source": [
    "answer = df[(df[\"user_rating\"] == answer)].shape[0]\n",
    "print(f\"Скільки книг мають такий рейтинг? \\n    Відповідь: {answer}\")"
   ]
  },
  {
   "cell_type": "code",
   "execution_count": 19,
   "metadata": {},
   "outputs": [
    {
     "name": "stdout",
     "output_type": "stream",
     "text": [
      "Яка книга має найбільше відгуків? \n",
      "Відповідь: Where the Crawdads Sing\n"
     ]
    }
   ],
   "source": [
    "answer = df[df[\"reviews\"] == df[\"reviews\"].max()][\"name\"].iloc[0]\n",
    "print(f\"Яка книга має найбільше відгуків? \\nВідповідь: {answer}\")"
   ]
  },
  {
   "cell_type": "code",
   "execution_count": 20,
   "metadata": {},
   "outputs": [
    {
     "name": "stdout",
     "output_type": "stream",
     "text": [
      "З тих книг, що потрапили до Топ-50 у 2015 році, яка книга найдорожча (можна використати проміжний датафрейм)? \n",
      "    Відповідь: Publication Manual of the American Psychological Association, 6th Edition\n"
     ]
    }
   ],
   "source": [
    "df1 = df[(df[\"year\"] == 2015)].nlargest(50, \"user_rating\")\n",
    "answer = df1[(df1[\"price\"] == df1[\"price\"].max())][\"name\"].iloc[0]\n",
    "print(\n",
    "    f\"З тих книг, що потрапили до Топ-50 у 2015 році, яка книга найдорожча (можна використати проміжний датафрейм)? \\n    Відповідь: {answer}\"\n",
    ")"
   ]
  },
  {
   "cell_type": "code",
   "execution_count": 21,
   "metadata": {},
   "outputs": [
    {
     "name": "stdout",
     "output_type": "stream",
     "text": [
      "Скільки книг жанру Fiction потрапили до Топ-50 у 2010 році (використовуйте &)? \n",
      "    Відповідь:20\n"
     ]
    }
   ],
   "source": [
    "answer = df[(df[\"year\"] == 2010) & (df[\"genre\"] == \"Fiction\")].shape[0]\n",
    "print(\n",
    "    f\"Скільки книг жанру Fiction потрапили до Топ-50 у 2010 році (використовуйте &)? \\n    Відповідь:{answer}\"\n",
    ")"
   ]
  },
  {
   "cell_type": "code",
   "execution_count": 22,
   "metadata": {},
   "outputs": [
    {
     "name": "stdout",
     "output_type": "stream",
     "text": [
      "Скільки книг з рейтингом 4.9 потрапило до рейтингу у 2010 та 2011 роках (використовуйте | або функцію isin)? \n",
      "    Відповідь:1\n"
     ]
    }
   ],
   "source": [
    "answer = df[\n",
    "    (df[\"user_rating\"] == 4.9) & ((df[\"year\"] == 2010) | (df[\"year\"] == 2011))\n",
    "].shape[0]\n",
    "answer = df[\n",
    "    (df[\"user_rating\"] == 4.9) & (df[\"year\"].isin([2010,2011]))].shape[0]\n",
    "print(\n",
    "    f\"Скільки книг з рейтингом 4.9 потрапило до рейтингу у 2010 та 2011 роках (використовуйте | або функцію isin)? \\n    Відповідь:{answer}\"\n",
    ")"
   ]
  },
  {
   "cell_type": "markdown",
   "metadata": {},
   "source": [
    "І насамкінець, давайте відсортуємо за зростанням ціни всі книги, які потрапили до рейтингу в 2015 році і коштують дешевше за 8 доларів (використовуйте функцію sort_values)."
   ]
  },
  {
   "cell_type": "code",
   "execution_count": 23,
   "metadata": {},
   "outputs": [
    {
     "name": "stdout",
     "output_type": "stream",
     "text": [
      "Яка книга остання у відсортованому списку? \n",
      "Відповідь: Old School (Diary of a Wimpy Kid #10)\n"
     ]
    }
   ],
   "source": [
    "df1=df[(df['year'] == 2015) & (df['price'] < 8)].sort_values(by='price', ascending=True)\n",
    "print(f'Яка книга остання у відсортованому списку? \\nВідповідь: {df1.iloc[-1][\"name\"]}')"
   ]
  },
  {
   "cell_type": "markdown",
   "metadata": {},
   "source": [
    "# Агрегування даних та з'єднання таблиць"
   ]
  },
  {
   "cell_type": "markdown",
   "metadata": {},
   "source": [
    "Для початку давайте подивимося на максимальну та мінімальну ціни для кожного з жанрів (використовуйте функції groupby та agg, для підрахунку мінімальних та максимальних значень використовуйте max та min). Не беріть усі стовпці, виберіть тільки потрібні вам"
   ]
  },
  {
   "cell_type": "code",
   "execution_count": 37,
   "metadata": {},
   "outputs": [
    {
     "name": "stdout",
     "output_type": "stream",
     "text": [
      "             min  max\n",
      "genre                \n",
      "Fiction        0   82\n",
      "Non Fiction    0  105\n"
     ]
    }
   ],
   "source": [
    "df_group = df.groupby(by=['genre'])\n",
    "new_df = df_group[\"price\"].agg([\"min\", \"max\"])\n",
    "print(new_df)"
   ]
  },
  {
   "cell_type": "code",
   "execution_count": 46,
   "metadata": {},
   "outputs": [
    {
     "name": "stdout",
     "output_type": "stream",
     "text": [
      "Максимальна ціна для жанру Fiction: Відповідь: 82\n"
     ]
    }
   ],
   "source": [
    "answer = new_df['max'].iloc[0]\n",
    "print(f\"Максимальна ціна для жанру Fiction: Відповідь: {answer}\")"
   ]
  },
  {
   "cell_type": "code",
   "execution_count": 54,
   "metadata": {},
   "outputs": [
    {
     "name": "stdout",
     "output_type": "stream",
     "text": [
      "Мінімальна ціна для жанру Fiction: Відповідь: 0\n"
     ]
    }
   ],
   "source": [
    "answer = new_df[\"min\"].iloc[0]\n",
    "print(f\"Мінімальна ціна для жанру Fiction: Відповідь: {answer}\")"
   ]
  },
  {
   "cell_type": "code",
   "execution_count": 55,
   "metadata": {},
   "outputs": [
    {
     "name": "stdout",
     "output_type": "stream",
     "text": [
      "Максимальна ціна для жанру Non Fiction: Відповідь: 105\n"
     ]
    }
   ],
   "source": [
    "answer = new_df[\"max\"].iloc[1]\n",
    "print(f\"Максимальна ціна для жанру Non Fiction: Відповідь: {answer}\")"
   ]
  },
  {
   "cell_type": "code",
   "execution_count": 56,
   "metadata": {},
   "outputs": [
    {
     "name": "stdout",
     "output_type": "stream",
     "text": [
      "Мінімальна ціна для жанру Non Fiction: Відповідь: 0\n"
     ]
    }
   ],
   "source": [
    "answer = new_df[\"min\"].iloc[1]\n",
    "print(f\"Мінімальна ціна для жанру Non Fiction: Відповідь: {answer}\")"
   ]
  },
  {
   "cell_type": "markdown",
   "metadata": {},
   "source": [
    "Тепер створіть новий датафрейм, який вміщатиме кількість книг для кожного з авторів (використовуйте функції groupby та agg, для підрахунку кількості використовуйте count). Не беріть усі стовпці, виберете тільки потрібні"
   ]
  },
  {
   "cell_type": "code",
   "execution_count": 58,
   "metadata": {},
   "outputs": [
    {
     "name": "stdout",
     "output_type": "stream",
     "text": [
      "                            count\n",
      "author                           \n",
      "Abraham Verghese                2\n",
      "Adam Gasiewski                  1\n",
      "Adam Mansbach                   1\n",
      "Adir Levy                       1\n",
      "Admiral William H. McRaven      1\n",
      "...                           ...\n",
      "Walter Isaacson                 3\n",
      "William Davis                   2\n",
      "William P. Young                2\n",
      "Wizards RPG Team                3\n",
      "Zhi Gang Sha                    2\n",
      "\n",
      "[248 rows x 1 columns]\n"
     ]
    }
   ],
   "source": [
    "df_group = df.groupby(by=['author'])\n",
    "new_df = df_group[\"price\"].agg(['count'])\n",
    "print(new_df)"
   ]
  },
  {
   "cell_type": "code",
   "execution_count": 59,
   "metadata": {},
   "outputs": [
    {
     "name": "stdout",
     "output_type": "stream",
     "text": [
      "Якої розмірності вийшла таблиця? Відповідь: (248, 1)\n"
     ]
    }
   ],
   "source": [
    "print(f\"Якої розмірності вийшла таблиця? Відповідь: {new_df.shape}\")"
   ]
  },
  {
   "cell_type": "code",
   "execution_count": 65,
   "metadata": {},
   "outputs": [
    {
     "name": "stdout",
     "output_type": "stream",
     "text": [
      "Який автор має найбільше книг? Відповідь: Jeff Kinney\n"
     ]
    }
   ],
   "source": [
    "print(\n",
    "    f\"Який автор має найбільше книг? Відповідь: {new_df[new_df['count']==new_df['count'].max()].index[0]}\"\n",
    ")"
   ]
  },
  {
   "cell_type": "code",
   "execution_count": 66,
   "metadata": {},
   "outputs": [
    {
     "name": "stdout",
     "output_type": "stream",
     "text": [
      "Скільки книг цього автора? Відповідь: 12\n"
     ]
    }
   ],
   "source": [
    "print(\n",
    "    f\"Скільки книг цього автора? Відповідь: {new_df['count'].max()}\"\n",
    ")"
   ]
  },
  {
   "cell_type": "markdown",
   "metadata": {},
   "source": [
    "Тепер створіть другий датафрейм, який буде вміщати середній рейтинг для кожного автора (використовуйте функції groupby та agg, для підрахунку середнього значення використовуйте mean). Не беріть усі стовпці, виберете тільки потрібні"
   ]
  },
  {
   "cell_type": "code",
   "execution_count": 68,
   "metadata": {},
   "outputs": [
    {
     "name": "stdout",
     "output_type": "stream",
     "text": [
      "                                mean\n",
      "author                              \n",
      "Abraham Verghese            4.600000\n",
      "Adam Gasiewski              4.400000\n",
      "Adam Mansbach               4.800000\n",
      "Adir Levy                   4.800000\n",
      "Admiral William H. McRaven  4.700000\n",
      "...                              ...\n",
      "Walter Isaacson             4.566667\n",
      "William Davis               4.400000\n",
      "William P. Young            4.600000\n",
      "Wizards RPG Team            4.800000\n",
      "Zhi Gang Sha                4.600000\n",
      "\n",
      "[248 rows x 1 columns]\n"
     ]
    }
   ],
   "source": [
    "new_df1 = df_group[\"user_rating\"].agg([\"mean\"])\n",
    "print(new_df1)"
   ]
  },
  {
   "cell_type": "code",
   "execution_count": 70,
   "metadata": {},
   "outputs": [
    {
     "name": "stdout",
     "output_type": "stream",
     "text": [
      "У якого автора середній рейтинг мінімальний? Відповідь: Donna Tartt\n"
     ]
    }
   ],
   "source": [
    "print(\n",
    "    f\"У якого автора середній рейтинг мінімальний? Відповідь: {new_df1[new_df1['mean']==new_df1['mean'].min()].index[0]}\"\n",
    ")"
   ]
  },
  {
   "cell_type": "code",
   "execution_count": 71,
   "metadata": {},
   "outputs": [
    {
     "name": "stdout",
     "output_type": "stream",
     "text": [
      "Який у цього автора середній рейтинг? Відповідь: 3.9\n"
     ]
    }
   ],
   "source": [
    "print(\n",
    "    f\"Який у цього автора середній рейтинг? Відповідь: {new_df1['mean'].min()}\"\n",
    ")"
   ]
  },
  {
   "cell_type": "markdown",
   "metadata": {},
   "source": [
    "З'єднайте останні два датафрейми так, щоб для кожного автора було видно кількість книг та середній рейтинг (Використовуйте функцію concat з параметром axis=1). Збережіть результат у змінну"
   ]
  },
  {
   "cell_type": "code",
   "execution_count": 79,
   "metadata": {},
   "outputs": [
    {
     "data": {
      "text/html": [
       "<div>\n",
       "<style scoped>\n",
       "    .dataframe tbody tr th:only-of-type {\n",
       "        vertical-align: middle;\n",
       "    }\n",
       "\n",
       "    .dataframe tbody tr th {\n",
       "        vertical-align: top;\n",
       "    }\n",
       "\n",
       "    .dataframe thead th {\n",
       "        text-align: right;\n",
       "    }\n",
       "</style>\n",
       "<table border=\"1\" class=\"dataframe\">\n",
       "  <thead>\n",
       "    <tr style=\"text-align: right;\">\n",
       "      <th></th>\n",
       "      <th>count</th>\n",
       "      <th>mean</th>\n",
       "    </tr>\n",
       "    <tr>\n",
       "      <th>author</th>\n",
       "      <th></th>\n",
       "      <th></th>\n",
       "    </tr>\n",
       "  </thead>\n",
       "  <tbody>\n",
       "    <tr>\n",
       "      <th>Abraham Verghese</th>\n",
       "      <td>2</td>\n",
       "      <td>4.600000</td>\n",
       "    </tr>\n",
       "    <tr>\n",
       "      <th>Adam Gasiewski</th>\n",
       "      <td>1</td>\n",
       "      <td>4.400000</td>\n",
       "    </tr>\n",
       "    <tr>\n",
       "      <th>Adam Mansbach</th>\n",
       "      <td>1</td>\n",
       "      <td>4.800000</td>\n",
       "    </tr>\n",
       "    <tr>\n",
       "      <th>Adir Levy</th>\n",
       "      <td>1</td>\n",
       "      <td>4.800000</td>\n",
       "    </tr>\n",
       "    <tr>\n",
       "      <th>Admiral William H. McRaven</th>\n",
       "      <td>1</td>\n",
       "      <td>4.700000</td>\n",
       "    </tr>\n",
       "    <tr>\n",
       "      <th>...</th>\n",
       "      <td>...</td>\n",
       "      <td>...</td>\n",
       "    </tr>\n",
       "    <tr>\n",
       "      <th>Walter Isaacson</th>\n",
       "      <td>3</td>\n",
       "      <td>4.566667</td>\n",
       "    </tr>\n",
       "    <tr>\n",
       "      <th>William Davis</th>\n",
       "      <td>2</td>\n",
       "      <td>4.400000</td>\n",
       "    </tr>\n",
       "    <tr>\n",
       "      <th>William P. Young</th>\n",
       "      <td>2</td>\n",
       "      <td>4.600000</td>\n",
       "    </tr>\n",
       "    <tr>\n",
       "      <th>Wizards RPG Team</th>\n",
       "      <td>3</td>\n",
       "      <td>4.800000</td>\n",
       "    </tr>\n",
       "    <tr>\n",
       "      <th>Zhi Gang Sha</th>\n",
       "      <td>2</td>\n",
       "      <td>4.600000</td>\n",
       "    </tr>\n",
       "  </tbody>\n",
       "</table>\n",
       "<p>248 rows × 2 columns</p>\n",
       "</div>"
      ],
      "text/plain": [
       "                            count      mean\n",
       "author                                     \n",
       "Abraham Verghese                2  4.600000\n",
       "Adam Gasiewski                  1  4.400000\n",
       "Adam Mansbach                   1  4.800000\n",
       "Adir Levy                       1  4.800000\n",
       "Admiral William H. McRaven      1  4.700000\n",
       "...                           ...       ...\n",
       "Walter Isaacson                 3  4.566667\n",
       "William Davis                   2  4.400000\n",
       "William P. Young                2  4.600000\n",
       "Wizards RPG Team                3  4.800000\n",
       "Zhi Gang Sha                    2  4.600000\n",
       "\n",
       "[248 rows x 2 columns]"
      ]
     },
     "execution_count": 79,
     "metadata": {},
     "output_type": "execute_result"
    }
   ],
   "source": [
    "merged_df = pd.concat([new_df, new_df1], axis=1)\n",
    "merged_df"
   ]
  },
  {
   "cell_type": "markdown",
   "metadata": {},
   "source": [
    "Відсортуйте датафрейм за зростаючою кількістю книг та зростаючим рейтингом (використовуйте функцію sort_values)"
   ]
  },
  {
   "cell_type": "code",
   "execution_count": 80,
   "metadata": {},
   "outputs": [
    {
     "data": {
      "text/html": [
       "<div>\n",
       "<style scoped>\n",
       "    .dataframe tbody tr th:only-of-type {\n",
       "        vertical-align: middle;\n",
       "    }\n",
       "\n",
       "    .dataframe tbody tr th {\n",
       "        vertical-align: top;\n",
       "    }\n",
       "\n",
       "    .dataframe thead th {\n",
       "        text-align: right;\n",
       "    }\n",
       "</style>\n",
       "<table border=\"1\" class=\"dataframe\">\n",
       "  <thead>\n",
       "    <tr style=\"text-align: right;\">\n",
       "      <th></th>\n",
       "      <th>count</th>\n",
       "      <th>mean</th>\n",
       "    </tr>\n",
       "    <tr>\n",
       "      <th>author</th>\n",
       "      <th></th>\n",
       "      <th></th>\n",
       "    </tr>\n",
       "  </thead>\n",
       "  <tbody>\n",
       "    <tr>\n",
       "      <th>Muriel Barbery</th>\n",
       "      <td>1</td>\n",
       "      <td>4.000000</td>\n",
       "    </tr>\n",
       "    <tr>\n",
       "      <th>Chris Cleave</th>\n",
       "      <td>1</td>\n",
       "      <td>4.100000</td>\n",
       "    </tr>\n",
       "    <tr>\n",
       "      <th>Ian K. Smith M.D.</th>\n",
       "      <td>1</td>\n",
       "      <td>4.100000</td>\n",
       "    </tr>\n",
       "    <tr>\n",
       "      <th>Pierre Dukan</th>\n",
       "      <td>1</td>\n",
       "      <td>4.100000</td>\n",
       "    </tr>\n",
       "    <tr>\n",
       "      <th>Elizabeth Strout</th>\n",
       "      <td>1</td>\n",
       "      <td>4.200000</td>\n",
       "    </tr>\n",
       "    <tr>\n",
       "      <th>...</th>\n",
       "      <td>...</td>\n",
       "      <td>...</td>\n",
       "    </tr>\n",
       "    <tr>\n",
       "      <th>American Psychological Association</th>\n",
       "      <td>10</td>\n",
       "      <td>4.500000</td>\n",
       "    </tr>\n",
       "    <tr>\n",
       "      <th>Suzanne Collins</th>\n",
       "      <td>11</td>\n",
       "      <td>4.663636</td>\n",
       "    </tr>\n",
       "    <tr>\n",
       "      <th>Gary Chapman</th>\n",
       "      <td>11</td>\n",
       "      <td>4.736364</td>\n",
       "    </tr>\n",
       "    <tr>\n",
       "      <th>Rick Riordan</th>\n",
       "      <td>11</td>\n",
       "      <td>4.772727</td>\n",
       "    </tr>\n",
       "    <tr>\n",
       "      <th>Jeff Kinney</th>\n",
       "      <td>12</td>\n",
       "      <td>4.800000</td>\n",
       "    </tr>\n",
       "  </tbody>\n",
       "</table>\n",
       "<p>248 rows × 2 columns</p>\n",
       "</div>"
      ],
      "text/plain": [
       "                                    count      mean\n",
       "author                                             \n",
       "Muriel Barbery                          1  4.000000\n",
       "Chris Cleave                            1  4.100000\n",
       "Ian K. Smith M.D.                       1  4.100000\n",
       "Pierre Dukan                            1  4.100000\n",
       "Elizabeth Strout                        1  4.200000\n",
       "...                                   ...       ...\n",
       "American Psychological Association     10  4.500000\n",
       "Suzanne Collins                        11  4.663636\n",
       "Gary Chapman                           11  4.736364\n",
       "Rick Riordan                           11  4.772727\n",
       "Jeff Kinney                            12  4.800000\n",
       "\n",
       "[248 rows x 2 columns]"
      ]
     },
     "execution_count": 80,
     "metadata": {},
     "output_type": "execute_result"
    }
   ],
   "source": [
    "sorted_merged_df=merged_df.sort_values(by=['count', 'mean'], ascending=[True,True])\n",
    "sorted_merged_df"
   ]
  },
  {
   "cell_type": "code",
   "execution_count": 84,
   "metadata": {},
   "outputs": [
    {
     "name": "stdout",
     "output_type": "stream",
     "text": [
      "Який автор перший у списку? Відповідь: Muriel Barbery\n"
     ]
    }
   ],
   "source": [
    "print(f\"Який автор перший у списку? Відповідь: {sorted_merged_df.index[0]}\")"
   ]
  },
  {
   "cell_type": "code",
   "execution_count": 100,
   "metadata": {},
   "outputs": [
    {
     "data": {
      "image/png": "[encoded data removed]",
      "text/plain": [
       "<Figure size 1500x1500 with 3 Axes>"
      ]
     },
     "metadata": {},
     "output_type": "display_data"
    }
   ],
   "source": [
    "merged_df = merged_df.head(10)\n",
    "\n",
    "fig, axs = plt.subplots(2, 2, figsize=(15, 15))\n",
    "\n",
    "# Діаграма кількості книг для кожного автора\n",
    "axs[0, 0].bar(merged_df.index, merged_df[\"count\"], color=\"skyblue\")\n",
    "axs[0, 0].set_title(\"Кількість книг для кожного автора\")\n",
    "axs[0, 0].set_ylabel(\"Кількість книг\")\n",
    "axs[0, 0].tick_params(axis=\"x\", rotation=90)\n",
    "axs[0, 0].grid(True)\n",
    "\n",
    "# Діаграма середнього рейтингу для кожного автора\n",
    "axs[0, 1].bar(merged_df.index, merged_df[\"mean\"], color=\"lightgreen\")\n",
    "axs[0, 1].set_title(\"Середній рейтинг для кожного автора\")\n",
    "axs[0, 1].set_ylabel(\"Середній рейтинг\")\n",
    "axs[0, 1].tick_params(axis=\"x\", rotation=90)\n",
    "axs[0, 1].grid(True)\n",
    "\n",
    "# Діаграма відсоткової частки книг кожного автора\n",
    "axs[1, 0].pie(\n",
    "    merged_df[\"count\"],\n",
    "    labels=merged_df.index,\n",
    "    autopct=\"%1.1f%%\",\n",
    "    startangle=140,\n",
    ")\n",
    "axs[1, 0].set_title(\"Частка книг для кожного автора\")\n",
    "\n",
    "# Видалити порожню вісь\n",
    "fig.delaxes(axs[1, 1])\n",
    "\n",
    "# Налаштування розташування та проміжку між діаграмами\n",
    "plt.tight_layout()\n",
    "\n",
    "# Показати діаграми\n",
    "plt.show()"
   ]
  }
 ],
 "metadata": {
  "kernelspec": {
   "display_name": "Python 3",
   "language": "python",
   "name": "python3"
  },
  "language_info": {
   "codemirror_mode": {
    "name": "ipython",
    "version": 3
   },
   "file_extension": ".py",
   "mimetype": "text/x-python",
   "name": "python",
   "nbconvert_exporter": "python",
   "pygments_lexer": "ipython3",
   "version": "3.12.1"
  }
 },
 "nbformat": 4,
 "nbformat_minor": 2
}
