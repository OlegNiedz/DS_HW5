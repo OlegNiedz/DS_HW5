{
  "cells": [
    {
      "cell_type": "markdown",
      "metadata": {
        "colab_type": "text",
        "id": "view-in-github"
      },
      "source": [
        "<a href=\"https://colab.research.google.com/github/OlegNiedz/DS_HW5/blob/main/HW5_2.ipynb\" target=\"_parent\"><img src=\"https://colab.research.google.com/assets/colab-badge.svg\" alt=\"Open In Colab\"/></a>"
      ]
    },
    {
      "cell_type": "code",
      "execution_count": 1,
      "metadata": {
        "id": "AwJ4653JD8qD"
      },
      "outputs": [],
      "source": [
        "# %matplotlib inline\n",
        "\n",
        "import pandas as pd\n",
        "\n",
        "import numpy as np\n",
        "import matplotlib.pyplot as plt"
      ]
    },
    {
      "cell_type": "markdown",
      "metadata": {},
      "source": [
        "Прочитайте файл 2017_jun_final.csv за допомогою методу read_csv"
      ]
    },
    {
      "cell_type": "code",
      "execution_count": 13,
      "metadata": {},
      "outputs": [],
      "source": [
        "url_csv = \"https://docs.google.com/spreadsheets/d/1bclX5PbqE8zR1-wOSM3ZTFa53sIC7RXqwty7Abmw9yQ/edit#gid=1724592523\"\n",
        "file_csv = '2017_jun_final.csv'\n",
        "oryginal_table = pd.read_csv(file_csv)\n",
        "table=oryginal_table.copy()"
      ]
    },
    {
      "cell_type": "markdown",
      "metadata": {},
      "source": [
        "Прочитайте отриману таблицю, використовуючи метод head"
      ]
    },
    {
      "cell_type": "code",
      "execution_count": 14,
      "metadata": {},
      "outputs": [
        {
          "data": {
            "text/html": [
              "<div>\n",
              "<style scoped>\n",
              "    .dataframe tbody tr th:only-of-type {\n",
              "        vertical-align: middle;\n",
              "    }\n",
              "\n",
              "    .dataframe tbody tr th {\n",
              "        vertical-align: top;\n",
              "    }\n",
              "\n",
              "    .dataframe thead th {\n",
              "        text-align: right;\n",
              "    }\n",
              "</style>\n",
              "<table border=\"1\" class=\"dataframe\">\n",
              "  <thead>\n",
              "    <tr style=\"text-align: right;\">\n",
              "      <th></th>\n",
              "      <th>N</th>\n",
              "      <th>Посада</th>\n",
              "      <th>Мова програмування</th>\n",
              "      <th>Спеціалізація</th>\n",
              "      <th>Загальний досвід роботи</th>\n",
              "      <th>Досвід роботи на поточному місці</th>\n",
              "      <th>Зарплата на місяць</th>\n",
              "      <th>Зміна зарплати за 12 місяців</th>\n",
              "      <th>Місто</th>\n",
              "      <th>Розмір компанії</th>\n",
              "      <th>...</th>\n",
              "      <th>Ще студент</th>\n",
              "      <th>Рівень англійської</th>\n",
              "      <th>Предметна область</th>\n",
              "      <th>Дата заповнення</th>\n",
              "      <th>User.Agent</th>\n",
              "      <th>exp</th>\n",
              "      <th>current_job_exp</th>\n",
              "      <th>salary</th>\n",
              "      <th>Валюта</th>\n",
              "      <th>cls</th>\n",
              "    </tr>\n",
              "  </thead>\n",
              "  <tbody>\n",
              "    <tr>\n",
              "      <th>0</th>\n",
              "      <td>1</td>\n",
              "      <td>Junior QA engineer</td>\n",
              "      <td>NaN</td>\n",
              "      <td>Manual QA</td>\n",
              "      <td>0.5</td>\n",
              "      <td>0.5</td>\n",
              "      <td>400</td>\n",
              "      <td>0</td>\n",
              "      <td>Харків</td>\n",
              "      <td>до 10 осіб</td>\n",
              "      <td>...</td>\n",
              "      <td>True</td>\n",
              "      <td>Pre-intermediate (нище середнього)</td>\n",
              "      <td>iOS,eCommerce</td>\n",
              "      <td>12/06/2017 12:38:08</td>\n",
              "      <td>Mozilla/5.0 (Windows NT 10.0; Win64; x64) Appl...</td>\n",
              "      <td>0.5</td>\n",
              "      <td>0.5</td>\n",
              "      <td>400</td>\n",
              "      <td>NaN</td>\n",
              "      <td>QA</td>\n",
              "    </tr>\n",
              "    <tr>\n",
              "      <th>1</th>\n",
              "      <td>2</td>\n",
              "      <td>Junior QA engineer</td>\n",
              "      <td>NaN</td>\n",
              "      <td>Manual QA</td>\n",
              "      <td>менше 3 місяців</td>\n",
              "      <td>менше 3 місяців</td>\n",
              "      <td>430</td>\n",
              "      <td>130</td>\n",
              "      <td>Харків</td>\n",
              "      <td>більше 1000 осіб</td>\n",
              "      <td>...</td>\n",
              "      <td>True</td>\n",
              "      <td>Upper-Intermediate (вище середнього)</td>\n",
              "      <td>Веб-розробка</td>\n",
              "      <td>12/06/2017 12:42:51</td>\n",
              "      <td>Mozilla/5.0 (iPad; CPU OS 10_2_1 like Mac OS X...</td>\n",
              "      <td>0.0</td>\n",
              "      <td>0.0</td>\n",
              "      <td>430</td>\n",
              "      <td>NaN</td>\n",
              "      <td>QA</td>\n",
              "    </tr>\n",
              "    <tr>\n",
              "      <th>2</th>\n",
              "      <td>3</td>\n",
              "      <td>Software Engineer</td>\n",
              "      <td>C#/.NET</td>\n",
              "      <td>NaN</td>\n",
              "      <td>4</td>\n",
              "      <td>1</td>\n",
              "      <td>2500</td>\n",
              "      <td>800</td>\n",
              "      <td>Київ</td>\n",
              "      <td>до 1000 осіб</td>\n",
              "      <td>...</td>\n",
              "      <td>False</td>\n",
              "      <td>Intermediate (середній)</td>\n",
              "      <td>Веб-розробка,Корпоративні системи</td>\n",
              "      <td>12/06/2017 13:02:47</td>\n",
              "      <td>Mozilla/5.0 (Windows NT 10.0; Win64; x64) Appl...</td>\n",
              "      <td>4.0</td>\n",
              "      <td>1.0</td>\n",
              "      <td>2500</td>\n",
              "      <td>NaN</td>\n",
              "      <td>DEV</td>\n",
              "    </tr>\n",
              "    <tr>\n",
              "      <th>3</th>\n",
              "      <td>4</td>\n",
              "      <td>Software Engineer</td>\n",
              "      <td>JavaScript</td>\n",
              "      <td>NaN</td>\n",
              "      <td>5</td>\n",
              "      <td>4</td>\n",
              "      <td>2000</td>\n",
              "      <td>400</td>\n",
              "      <td>Одеса</td>\n",
              "      <td>до 200 осіб</td>\n",
              "      <td>...</td>\n",
              "      <td>False</td>\n",
              "      <td>Pre-intermediate (нище середнього)</td>\n",
              "      <td>Desktop Applications,Веб-розробка</td>\n",
              "      <td>12/06/2017 13:03:01</td>\n",
              "      <td>Mozilla/5.0 (Windows NT 6.1; Win64; x64) Apple...</td>\n",
              "      <td>5.0</td>\n",
              "      <td>4.0</td>\n",
              "      <td>2000</td>\n",
              "      <td>NaN</td>\n",
              "      <td>DEV</td>\n",
              "    </tr>\n",
              "    <tr>\n",
              "      <th>4</th>\n",
              "      <td>5</td>\n",
              "      <td>Senior Software Engineer</td>\n",
              "      <td>JavaScript</td>\n",
              "      <td>NaN</td>\n",
              "      <td>10 і більше років</td>\n",
              "      <td>0.5</td>\n",
              "      <td>4500</td>\n",
              "      <td>500</td>\n",
              "      <td>Інше</td>\n",
              "      <td>до 10 осіб</td>\n",
              "      <td>...</td>\n",
              "      <td>False</td>\n",
              "      <td>Intermediate (середній)</td>\n",
              "      <td>Desktop Applications,Веб-розробка</td>\n",
              "      <td>12/06/2017 13:03:47</td>\n",
              "      <td>Mozilla/5.0 (iPhone; CPU iPhone OS 10_3_2 like...</td>\n",
              "      <td>10.0</td>\n",
              "      <td>0.5</td>\n",
              "      <td>4500</td>\n",
              "      <td>NaN</td>\n",
              "      <td>DEV</td>\n",
              "    </tr>\n",
              "  </tbody>\n",
              "</table>\n",
              "<p>5 rows × 25 columns</p>\n",
              "</div>"
            ],
            "text/plain": [
              "   N                    Посада Мова програмування Спеціалізація  \\\n",
              "0  1        Junior QA engineer                NaN     Manual QA   \n",
              "1  2        Junior QA engineer                NaN     Manual QA   \n",
              "2  3         Software Engineer            C#/.NET           NaN   \n",
              "3  4         Software Engineer         JavaScript           NaN   \n",
              "4  5  Senior Software Engineer         JavaScript           NaN   \n",
              "\n",
              "  Загальний досвід роботи Досвід роботи на поточному місці  \\\n",
              "0                     0.5                              0.5   \n",
              "1         менше 3 місяців                  менше 3 місяців   \n",
              "2                       4                                1   \n",
              "3                       5                                4   \n",
              "4       10 і більше років                              0.5   \n",
              "\n",
              "   Зарплата на місяць  Зміна зарплати за 12 місяців   Місто   Розмір компанії  \\\n",
              "0                 400                             0  Харків        до 10 осіб   \n",
              "1                 430                           130  Харків  більше 1000 осіб   \n",
              "2                2500                           800    Київ      до 1000 осіб   \n",
              "3                2000                           400   Одеса       до 200 осіб   \n",
              "4                4500                           500    Інше        до 10 осіб   \n",
              "\n",
              "   ... Ще студент                    Рівень англійської  \\\n",
              "0  ...       True    Pre-intermediate (нище середнього)   \n",
              "1  ...       True  Upper-Intermediate (вище середнього)   \n",
              "2  ...      False               Intermediate (середній)   \n",
              "3  ...      False    Pre-intermediate (нище середнього)   \n",
              "4  ...      False               Intermediate (середній)   \n",
              "\n",
              "                   Предметна область      Дата заповнення  \\\n",
              "0                      iOS,eCommerce  12/06/2017 12:38:08   \n",
              "1                       Веб-розробка  12/06/2017 12:42:51   \n",
              "2  Веб-розробка,Корпоративні системи  12/06/2017 13:02:47   \n",
              "3  Desktop Applications,Веб-розробка  12/06/2017 13:03:01   \n",
              "4  Desktop Applications,Веб-розробка  12/06/2017 13:03:47   \n",
              "\n",
              "                                          User.Agent   exp current_job_exp  \\\n",
              "0  Mozilla/5.0 (Windows NT 10.0; Win64; x64) Appl...   0.5             0.5   \n",
              "1  Mozilla/5.0 (iPad; CPU OS 10_2_1 like Mac OS X...   0.0             0.0   \n",
              "2  Mozilla/5.0 (Windows NT 10.0; Win64; x64) Appl...   4.0             1.0   \n",
              "3  Mozilla/5.0 (Windows NT 6.1; Win64; x64) Apple...   5.0             4.0   \n",
              "4  Mozilla/5.0 (iPhone; CPU iPhone OS 10_3_2 like...  10.0             0.5   \n",
              "\n",
              "  salary Валюта  cls  \n",
              "0    400    NaN   QA  \n",
              "1    430    NaN   QA  \n",
              "2   2500    NaN  DEV  \n",
              "3   2000    NaN  DEV  \n",
              "4   4500    NaN  DEV  \n",
              "\n",
              "[5 rows x 25 columns]"
            ]
          },
          "execution_count": 14,
          "metadata": {},
          "output_type": "execute_result"
        }
      ],
      "source": [
        "table.head()"
      ]
    },
    {
      "cell_type": "markdown",
      "metadata": {},
      "source": [
        "Визначте розмір таблиці за допомогою методу shape"
      ]
    },
    {
      "cell_type": "code",
      "execution_count": 16,
      "metadata": {},
      "outputs": [
        {
          "data": {
            "text/plain": [
              "(8704, 25)"
            ]
          },
          "execution_count": 16,
          "metadata": {},
          "output_type": "execute_result"
        }
      ],
      "source": [
        "table.shape"
      ]
    },
    {
      "cell_type": "markdown",
      "metadata": {},
      "source": [
        "Визначте типи всіх стовпців за допомогою dataframe.dtypes"
      ]
    },
    {
      "cell_type": "code",
      "execution_count": 18,
      "metadata": {},
      "outputs": [
        {
          "data": {
            "text/plain": [
              "N                                     int64\n",
              "Посада                               object\n",
              "Мова програмування                   object\n",
              "Спеціалізація                        object\n",
              "Загальний досвід роботи              object\n",
              "Досвід роботи на поточному місці     object\n",
              "Зарплата на місяць                    int64\n",
              "Зміна зарплати за 12 місяців          int64\n",
              "Місто                                object\n",
              "Розмір компанії                      object\n",
              "Тип компанії                         object\n",
              "Стать                                object\n",
              "Вік                                   int64\n",
              "Освіта                               object\n",
              "Університет                          object\n",
              "Ще студент                             bool\n",
              "Рівень англійської                   object\n",
              "Предметна область                    object\n",
              "Дата заповнення                      object\n",
              "User.Agent                           object\n",
              "exp                                 float64\n",
              "current_job_exp                     float64\n",
              "salary                                int64\n",
              "Валюта                               object\n",
              "cls                                  object\n",
              "dtype: object"
            ]
          },
          "execution_count": 18,
          "metadata": {},
          "output_type": "execute_result"
        }
      ],
      "source": [
        "table.dtypes"
      ]
    }
  ],
  "metadata": {
    "colab": {
      "authorship_tag": "ABX9TyN6SDwyL8G1pozKg6X5ua5l",
      "include_colab_link": true,
      "provenance": []
    },
    "kernelspec": {
      "display_name": "Python 3",
      "name": "python3"
    },
    "language_info": {
      "codemirror_mode": {
        "name": "ipython",
        "version": 3
      },
      "file_extension": ".py",
      "mimetype": "text/x-python",
      "name": "python",
      "nbconvert_exporter": "python",
      "pygments_lexer": "ipython3",
      "version": "3.12.1"
    }
  },
  "nbformat": 4,
  "nbformat_minor": 0
}
